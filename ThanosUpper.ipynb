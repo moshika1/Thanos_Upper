{
 "cells": [
  {
   "cell_type": "code",
   "execution_count": 1,
   "metadata": {},
   "outputs": [],
   "source": [
    "import os "
   ]
  },
  {
   "cell_type": "code",
   "execution_count": 2,
   "metadata": {},
   "outputs": [],
   "source": [
    "def universe_upper(path) :\n",
    "    universe = os.listdir(path)\n",
    "    [os.rename(path + x, path + os.path.splitext(x)[0].upper() + os.path.splitext(x)[1]) for x in universe]\n",
    "     \n"
   ]
  },
  {
   "cell_type": "code",
   "execution_count": 4,
   "metadata": {},
   "outputs": [],
   "source": [
    "universe_upper('parallel_universe/')\n"
   ]
  },
  {
   "cell_type": "code",
   "execution_count": 5,
   "metadata": {},
   "outputs": [
    {
     "data": {
      "text/plain": [
       "['ADAM SANDLER.jpg',\n",
       " 'ANGELINA JULIE.png',\n",
       " 'ARIANA GRANDE.jpeg',\n",
       " 'BEN AFFLECK.jpg',\n",
       " 'BEN STILLER.jpg',\n",
       " 'BILL GATES.jpg',\n",
       " 'BRAD PITT.jpg',\n",
       " 'BRITNEY SPEARS.jpg',\n",
       " 'BRUCE LEE.jpg',\n",
       " 'CAMERON DIAZ.jpg',\n",
       " 'DWAYNE JOHNSON.jpg',\n",
       " 'ELON MUSK.jpg',\n",
       " 'ELTON JOHN.jpg',\n",
       " 'JACK BLACK.jpg',\n",
       " 'JACKIE CHAN.jpg',\n",
       " 'JAMIE FOXX.jpg',\n",
       " 'JASON SEGEL.jpg',\n",
       " 'JASON STATHAM.jpg',\n",
       " 'JEFF BEZOS.jpg',\n",
       " 'JENNIFER ANISTON.jpg',\n",
       " 'JENNIFER LOPEZ.jpg',\n",
       " 'JERRY SEINFELD.jpg',\n",
       " 'JIM CARREY.jpg',\n",
       " 'JOHN CENA.jpg',\n",
       " 'JOHNNY DEPP.jpg',\n",
       " 'JOSH RADNOR.jpg',\n",
       " 'JULIA ROBERTS.jpg',\n",
       " 'JUSTIN TIMBERLAKE.jpg',\n",
       " 'KATE UPTON.jpg',\n",
       " 'KEANU REEVES.jpg',\n",
       " 'KEVIN HART.jpg',\n",
       " 'MADONNA.jpg',\n",
       " 'MARK RUFFALO.jpg',\n",
       " 'MARK ZUCKERBERG.jpg',\n",
       " 'MATT DAMON.jpg',\n",
       " 'MICHAEL JACKSON.jpg',\n",
       " 'MICHAEL JORDAN.jpg',\n",
       " 'MINDY KALING.jpg',\n",
       " 'MIRANDA COSGROVE.jpg',\n",
       " 'NEIL PATRICK HARRIS.jpg',\n",
       " 'NICK JONAS.jpg',\n",
       " 'NICOLE KIDMAN.jpg',\n",
       " 'PAUL RUDD.jpg',\n",
       " 'ROBIN WILLIAMS.jpg',\n",
       " 'STEVE CARELL.jpg',\n",
       " 'STEVE JOBS.jpg',\n",
       " 'SYLVESTER STALLONE.jpg',\n",
       " 'TOM CRUISE.jpg',\n",
       " 'WILL FERRELL.jpg',\n",
       " 'WILL SMITH.jpg']"
      ]
     },
     "execution_count": 5,
     "metadata": {},
     "output_type": "execute_result"
    }
   ],
   "source": [
    "universe = os.listdir('parallel_universe/')\n",
    "universe "
   ]
  },
  {
   "cell_type": "code",
   "execution_count": null,
   "metadata": {},
   "outputs": [],
   "source": []
  }
 ],
 "metadata": {
  "interpreter": {
   "hash": "2f9e46a99545bdc53b16c24fbfc17c2c01b69146d35ce0c92f31414a54e3d929"
  },
  "kernelspec": {
   "display_name": "Python 3.9.7 ('base')",
   "language": "python",
   "name": "python3"
  },
  "language_info": {
   "codemirror_mode": {
    "name": "ipython",
    "version": 3
   },
   "file_extension": ".py",
   "mimetype": "text/x-python",
   "name": "python",
   "nbconvert_exporter": "python",
   "pygments_lexer": "ipython3",
   "version": "3.9.7"
  },
  "orig_nbformat": 4
 },
 "nbformat": 4,
 "nbformat_minor": 2
}
